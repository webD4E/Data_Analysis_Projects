{
 "cells": [
  {
   "cell_type": "markdown",
   "metadata": {},
   "source": [
    "# A sample research\n",
    "- Whether in Each region, teams of Big 4 [NHL,NFl, NBA, MLB] has the same `WIN_LOSS-Ratio` or Not\n",
    "\n",
    "- **Used T-statistic though*\n",
    "\n",
    "- **Emphesized on The flexbility of programming, which would be quite `onerous` in Excel** like **string manipulation**\n",
    "\n",
    "## Description\n",
    "In this assignment you must read in a file of metropolitan regions and associated sports teams from [assets/wikipedia_data.html](assets/wikipedia_data.html) and answer some questions about each metropolitan region. Each of these regions may have one or more teams from the \"Big 4\": NFL (football, in [assets/nfl.csv](assets/nfl.csv)), MLB (baseball, in [assets/mlb.csv](assets/mlb.csv)), NBA (basketball, in [assets/nba.csv](assets/nba.csv) or NHL (hockey, in [assets/nhl.csv](assets/nhl.csv)). Please keep in mind that all questions are from the perspective of the metropolitan region, and that this file is the \"source of authority\" for the location of a given sports team. Thus teams which are commonly known by a different area (e.g. \"Oakland Raiders\") need to be mapped into the metropolitan region given (e.g. San Francisco Bay Area). This will require some human data understanding outside of the data you've been given (e.g. you will have to hand-code some names, and might need to google to find out where teams are)!\n",
    "\n",
    "For each sport I would like you to answer the question: **what is the win/loss ratio's correlation with the population of the city it is in?** Win/Loss ratio refers to the number of wins over the number of wins plus the number of losses. Remember that to calculate the correlation with [`pearsonr`](https://docs.scipy.org/doc/scipy/reference/generated/scipy.stats.pearsonr.html), so you are going to send in two ordered lists of values, the populations from the wikipedia_data.html file and the win/loss ratio for a given sport in the same order. Average the win/loss ratios for those cities which have multiple teams of a single sport. Each sport is worth an equal amount in this assignment (20%\\*4=80%) of the grade for this assignment. You should only use data **from year 2018** for your analysis -- this is important!"
   ]
  },
  {
   "cell_type": "code",
   "execution_count": 1,
   "metadata": {},
   "outputs": [],
   "source": [
    "import pandas as pd\n",
    "import numpy as np\n",
    "import scipy as stats\n",
    "from scipy.stats import ttest_ind"
   ]
  },
  {
   "cell_type": "code",
   "execution_count": 108,
   "metadata": {},
   "outputs": [],
   "source": [
    "df = pd.read_html(\"assets/wikipedia_data.html\")[1]\n",
    "df.head();"
   ]
  },
  {
   "cell_type": "code",
   "execution_count": 109,
   "metadata": {},
   "outputs": [
    {
     "data": {
      "text/html": [
       "<div>\n",
       "<style scoped>\n",
       "    .dataframe tbody tr th:only-of-type {\n",
       "        vertical-align: middle;\n",
       "    }\n",
       "\n",
       "    .dataframe tbody tr th {\n",
       "        vertical-align: top;\n",
       "    }\n",
       "\n",
       "    .dataframe thead th {\n",
       "        text-align: right;\n",
       "    }\n",
       "</style>\n",
       "<table border=\"1\" class=\"dataframe\">\n",
       "  <thead>\n",
       "    <tr style=\"text-align: right;\">\n",
       "      <th></th>\n",
       "      <th>Metropolitan area</th>\n",
       "      <th>Country</th>\n",
       "      <th>Pop.rank</th>\n",
       "      <th>Population</th>\n",
       "      <th>B4</th>\n",
       "      <th>NFL</th>\n",
       "      <th>MLB</th>\n",
       "      <th>NBA</th>\n",
       "      <th>NHL</th>\n",
       "      <th>B6</th>\n",
       "      <th>MLS</th>\n",
       "      <th>CFL</th>\n",
       "    </tr>\n",
       "  </thead>\n",
       "  <tbody>\n",
       "    <tr>\n",
       "      <th>0</th>\n",
       "      <td>New York City</td>\n",
       "      <td>United States</td>\n",
       "      <td>1</td>\n",
       "      <td>20153634</td>\n",
       "      <td>9</td>\n",
       "      <td>GiantsJets[note 1]</td>\n",
       "      <td>YankeesMets[note 2]</td>\n",
       "      <td>KnicksNets</td>\n",
       "      <td>RangersIslandersDevils[note 3]</td>\n",
       "      <td>11</td>\n",
       "      <td>Red BullsNew York City FC</td>\n",
       "      <td>—</td>\n",
       "    </tr>\n",
       "    <tr>\n",
       "      <th>1</th>\n",
       "      <td>Los Angeles</td>\n",
       "      <td>United States</td>\n",
       "      <td>2</td>\n",
       "      <td>13310447</td>\n",
       "      <td>8</td>\n",
       "      <td>RamsChargers[note 4]</td>\n",
       "      <td>DodgersAngels</td>\n",
       "      <td>LakersClippers</td>\n",
       "      <td>KingsDucks</td>\n",
       "      <td>10</td>\n",
       "      <td>GalaxyLos Angeles FC[note 5]</td>\n",
       "      <td>—</td>\n",
       "    </tr>\n",
       "    <tr>\n",
       "      <th>2</th>\n",
       "      <td>San Francisco Bay Area</td>\n",
       "      <td>United States</td>\n",
       "      <td>6</td>\n",
       "      <td>6657982</td>\n",
       "      <td>6</td>\n",
       "      <td>49ersRaiders[note 6]</td>\n",
       "      <td>GiantsAthletics</td>\n",
       "      <td>Warriors</td>\n",
       "      <td>Sharks[note 7]</td>\n",
       "      <td>7</td>\n",
       "      <td>Earthquakes</td>\n",
       "      <td>—</td>\n",
       "    </tr>\n",
       "    <tr>\n",
       "      <th>3</th>\n",
       "      <td>Chicago</td>\n",
       "      <td>United States</td>\n",
       "      <td>3</td>\n",
       "      <td>9512999</td>\n",
       "      <td>5</td>\n",
       "      <td>Bears[note 8]</td>\n",
       "      <td>CubsWhite Sox</td>\n",
       "      <td>Bulls[note 9]</td>\n",
       "      <td>Blackhawks</td>\n",
       "      <td>6</td>\n",
       "      <td>Fire</td>\n",
       "      <td>—</td>\n",
       "    </tr>\n",
       "    <tr>\n",
       "      <th>4</th>\n",
       "      <td>Dallas–Fort Worth</td>\n",
       "      <td>United States</td>\n",
       "      <td>4</td>\n",
       "      <td>7233323</td>\n",
       "      <td>4</td>\n",
       "      <td>Cowboys</td>\n",
       "      <td>Rangers</td>\n",
       "      <td>Mavericks</td>\n",
       "      <td>Stars</td>\n",
       "      <td>5</td>\n",
       "      <td>FC Dallas</td>\n",
       "      <td>—</td>\n",
       "    </tr>\n",
       "  </tbody>\n",
       "</table>\n",
       "</div>"
      ],
      "text/plain": [
       "        Metropolitan area        Country Pop.rank Population  B4  \\\n",
       "0           New York City  United States        1   20153634   9   \n",
       "1             Los Angeles  United States        2   13310447   8   \n",
       "2  San Francisco Bay Area  United States        6    6657982   6   \n",
       "3                 Chicago  United States        3    9512999   5   \n",
       "4       Dallas–Fort Worth  United States        4    7233323   4   \n",
       "\n",
       "                    NFL                  MLB             NBA  \\\n",
       "0    GiantsJets[note 1]  YankeesMets[note 2]      KnicksNets   \n",
       "1  RamsChargers[note 4]        DodgersAngels  LakersClippers   \n",
       "2  49ersRaiders[note 6]      GiantsAthletics        Warriors   \n",
       "3         Bears[note 8]        CubsWhite Sox   Bulls[note 9]   \n",
       "4               Cowboys              Rangers       Mavericks   \n",
       "\n",
       "                              NHL  B6                           MLS CFL  \n",
       "0  RangersIslandersDevils[note 3]  11     Red BullsNew York City FC   —  \n",
       "1                      KingsDucks  10  GalaxyLos Angeles FC[note 5]   —  \n",
       "2                  Sharks[note 7]   7                   Earthquakes   —  \n",
       "3                      Blackhawks   6                          Fire   —  \n",
       "4                           Stars   5                     FC Dallas   —  "
      ]
     },
     "execution_count": 109,
     "metadata": {},
     "output_type": "execute_result"
    }
   ],
   "source": [
    "df = df.rename(columns={\"Population (2016 est.)[8]\": \"Population\"})\n",
    "df.head()"
   ]
  },
  {
   "cell_type": "code",
   "execution_count": 110,
   "metadata": {},
   "outputs": [
    {
     "data": {
      "text/html": [
       "<div>\n",
       "<style scoped>\n",
       "    .dataframe tbody tr th:only-of-type {\n",
       "        vertical-align: middle;\n",
       "    }\n",
       "\n",
       "    .dataframe tbody tr th {\n",
       "        vertical-align: top;\n",
       "    }\n",
       "\n",
       "    .dataframe thead th {\n",
       "        text-align: right;\n",
       "    }\n",
       "</style>\n",
       "<table border=\"1\" class=\"dataframe\">\n",
       "  <thead>\n",
       "    <tr style=\"text-align: right;\">\n",
       "      <th></th>\n",
       "      <th>Metropolitan area</th>\n",
       "      <th>Population</th>\n",
       "      <th>NFL</th>\n",
       "      <th>NHL</th>\n",
       "      <th>MLB</th>\n",
       "      <th>NBA</th>\n",
       "    </tr>\n",
       "  </thead>\n",
       "  <tbody>\n",
       "    <tr>\n",
       "      <th>0</th>\n",
       "      <td>New York City</td>\n",
       "      <td>20153634</td>\n",
       "      <td>GiantsJets[note 1]</td>\n",
       "      <td>RangersIslandersDevils[note 3]</td>\n",
       "      <td>YankeesMets[note 2]</td>\n",
       "      <td>KnicksNets</td>\n",
       "    </tr>\n",
       "    <tr>\n",
       "      <th>1</th>\n",
       "      <td>Los Angeles</td>\n",
       "      <td>13310447</td>\n",
       "      <td>RamsChargers[note 4]</td>\n",
       "      <td>KingsDucks</td>\n",
       "      <td>DodgersAngels</td>\n",
       "      <td>LakersClippers</td>\n",
       "    </tr>\n",
       "    <tr>\n",
       "      <th>2</th>\n",
       "      <td>San Francisco Bay Area</td>\n",
       "      <td>6657982</td>\n",
       "      <td>49ersRaiders[note 6]</td>\n",
       "      <td>Sharks[note 7]</td>\n",
       "      <td>GiantsAthletics</td>\n",
       "      <td>Warriors</td>\n",
       "    </tr>\n",
       "    <tr>\n",
       "      <th>3</th>\n",
       "      <td>Chicago</td>\n",
       "      <td>9512999</td>\n",
       "      <td>Bears[note 8]</td>\n",
       "      <td>Blackhawks</td>\n",
       "      <td>CubsWhite Sox</td>\n",
       "      <td>Bulls[note 9]</td>\n",
       "    </tr>\n",
       "    <tr>\n",
       "      <th>4</th>\n",
       "      <td>Dallas–Fort Worth</td>\n",
       "      <td>7233323</td>\n",
       "      <td>Cowboys</td>\n",
       "      <td>Stars</td>\n",
       "      <td>Rangers</td>\n",
       "      <td>Mavericks</td>\n",
       "    </tr>\n",
       "  </tbody>\n",
       "</table>\n",
       "</div>"
      ],
      "text/plain": [
       "        Metropolitan area Population                   NFL  \\\n",
       "0           New York City   20153634    GiantsJets[note 1]   \n",
       "1             Los Angeles   13310447  RamsChargers[note 4]   \n",
       "2  San Francisco Bay Area    6657982  49ersRaiders[note 6]   \n",
       "3                 Chicago    9512999         Bears[note 8]   \n",
       "4       Dallas–Fort Worth    7233323               Cowboys   \n",
       "\n",
       "                              NHL                  MLB             NBA  \n",
       "0  RangersIslandersDevils[note 3]  YankeesMets[note 2]      KnicksNets  \n",
       "1                      KingsDucks        DodgersAngels  LakersClippers  \n",
       "2                  Sharks[note 7]      GiantsAthletics        Warriors  \n",
       "3                      Blackhawks        CubsWhite Sox   Bulls[note 9]  \n",
       "4                           Stars              Rangers       Mavericks  "
      ]
     },
     "execution_count": 110,
     "metadata": {},
     "output_type": "execute_result"
    }
   ],
   "source": [
    "# lets take the necessery columns:\n",
    "df = df[[\"Metropolitan area\", \"Population\", \"NFL\", \"NHL\", \"MLB\", \"NBA\"]]\n",
    "df.head()"
   ]
  },
  {
   "cell_type": "markdown",
   "metadata": {},
   "source": [
    "##### Chuck of the dirt in the data that needed to be clean\n",
    "***some example in `NHL` column would be***\n",
    "\n",
    "**These are same in other columns that needed to be clean**"
   ]
  },
  {
   "cell_type": "code",
   "execution_count": 111,
   "metadata": {},
   "outputs": [
    {
     "data": {
      "text/plain": [
       "['RangersIslandersDevils[note 3]',\n",
       " 'Sharks[note 7]',\n",
       " 'Flyers[note 13]',\n",
       " 'Wild[note 16]',\n",
       " 'Avalanche[note 18]',\n",
       " 'Red Wings',\n",
       " 'Maple Leafs',\n",
       " '—',\n",
       " '[note 25]',\n",
       " 'Penguins[note 28]',\n",
       " '[note 32]',\n",
       " '[note 34]',\n",
       " '—',\n",
       " '[note 39]',\n",
       " 'Blues[note 43]',\n",
       " '—',\n",
       " '—',\n",
       " '—',\n",
       " '—',\n",
       " '—',\n",
       " '—',\n",
       " '—',\n",
       " 'Blue Jackets',\n",
       " '—',\n",
       " 'Jets[note 61]',\n",
       " '—',\n",
       " '—',\n",
       " '—',\n",
       " 'Golden Knights',\n",
       " '—',\n",
       " '—',\n",
       " '—',\n",
       " '—',\n",
       " '[note 71]',\n",
       " '—',\n",
       " '31']"
      ]
     },
     "execution_count": 111,
     "metadata": {},
     "output_type": "execute_result"
    }
   ],
   "source": [
    "### Now clean the NFL columns\n",
    "import re\n",
    "[x for x in df['NHL'] if re.search(\"[^A-Za-z]+\", x)]\n",
    "# These are the Chunck of dirt taht i have to clean!"
   ]
  },
  {
   "cell_type": "code",
   "execution_count": null,
   "metadata": {},
   "outputs": [],
   "source": []
  },
  {
   "cell_type": "code",
   "execution_count": 206,
   "metadata": {},
   "outputs": [],
   "source": [
    "# lets see in others too\n",
    "[x for x in df['NFL'] if re.search(\"[^A-Za-z]+\", x)];\n",
    "# assume all have the same problems\n"
   ]
  },
  {
   "cell_type": "code",
   "execution_count": 113,
   "metadata": {},
   "outputs": [],
   "source": [
    "## Clean the whole set of columns with the loop\n",
    "\n",
    "# replace the chunk with the \"\"\n",
    "for clm in df.iloc[:, 2:].columns:\n",
    "    df[clm] = df[clm].replace({\"[^A-Za-z].*\": \"\"}, regex=True)\n",
    "[x for x in df['NHL'] if re.search(\"[^A-Za-z]+\", x)];"
   ]
  },
  {
   "cell_type": "code",
   "execution_count": 107,
   "metadata": {},
   "outputs": [],
   "source": []
  },
  {
   "cell_type": "markdown",
   "metadata": {},
   "source": [
    "#### NHL Dataframe\n"
   ]
  },
  {
   "cell_type": "code",
   "execution_count": 204,
   "metadata": {},
   "outputs": [],
   "source": [
    "## Lets import the NHL df\n",
    "nhl_df = pd.read_csv(\"assets/nhl.csv\")\n",
    "nhl_df.head();\n"
   ]
  },
  {
   "cell_type": "code",
   "execution_count": 115,
   "metadata": {},
   "outputs": [],
   "source": [
    "# lets clean the team columns\n",
    "#[x for x in nhl_df['team'] if re.search(\"[^A-Za-z ]+\", x)]\n",
    "nhl_df['team'] = nhl_df['team'].replace({\"[^A-Za-z. ]*\": \"\"}, regex= True)\n",
    "[x for x in nhl_df['team'] if re.search(\"[^A-Za-z ]+\", x)];\n",
    "\n",
    "# which is fine"
   ]
  },
  {
   "cell_type": "code",
   "execution_count": 116,
   "metadata": {},
   "outputs": [],
   "source": [
    "nhl_df.shape;"
   ]
  },
  {
   "cell_type": "code",
   "execution_count": 117,
   "metadata": {},
   "outputs": [],
   "source": [
    "[x for x in nhl_df['team'] if \"St\" in x];"
   ]
  },
  {
   "cell_type": "code",
   "execution_count": 118,
   "metadata": {},
   "outputs": [],
   "source": [
    "       "
   ]
  },
  {
   "cell_type": "code",
   "execution_count": 119,
   "metadata": {},
   "outputs": [],
   "source": []
  },
  {
   "cell_type": "code",
   "execution_count": 120,
   "metadata": {},
   "outputs": [],
   "source": [
    "# make a function to make that a bit easier\n",
    "\n",
    "def clean(sport):\n",
    "    sport[\"team\"] = sport['team'].replace({\"[^A-Za-z. ]*\": \"\"}, regex=True)\n",
    "    \n",
    "    return sport[sport['year'] == 2018]\n",
    "nfl_df = pd.read_csv(\"assets/nfl.csv\")\n",
    "nfl_df = clean(nfl_df);\n",
    "    "
   ]
  },
  {
   "cell_type": "code",
   "execution_count": 121,
   "metadata": {},
   "outputs": [],
   "source": [
    "# make a funtion to get the region matching with df['Metropolitian area']\n",
    "\n",
    "def giving_reg(sport_df, reg_df):\n",
    "    \n",
    "    #assign the team name to reg colum\n",
    "    sport_df['reg'] = sport_df['team']\n",
    "    \n",
    "    # get the reg\n",
    "    for reg in reg_df['Metropolitan area']:\n",
    "        # get the each team\n",
    "        for team in sport_df['reg']:\n",
    "            #condition whether the team name starts with first 5 words of reg_df\n",
    "            if not reg.startswith(team[:5]): continue\n",
    "            sport_df['reg'] = sport_df['reg'].replace(to_replace=team , value=reg)\n",
    "    return sport_df\n",
    "\n",
    "\n",
    "nfl_df = giving_reg(nfl_df, df)\n",
    "nfl_df.head();"
   ]
  },
  {
   "cell_type": "code",
   "execution_count": 122,
   "metadata": {},
   "outputs": [],
   "source": []
  },
  {
   "cell_type": "code",
   "execution_count": 123,
   "metadata": {},
   "outputs": [],
   "source": []
  },
  {
   "cell_type": "code",
   "execution_count": 128,
   "metadata": {},
   "outputs": [],
   "source": []
  },
  {
   "cell_type": "code",
   "execution_count": 7,
   "metadata": {},
   "outputs": [],
   "source": [
    "# lets make a fuction which detectes such assymetry\n",
    "def assymetry(sport, df):\n",
    "    lis = []\n",
    "    for reg in sport[\"reg\"].unique():\n",
    "        \n",
    "        if reg not in list(df['Metropolitan area'].unique()):\n",
    "            lis.append(reg)\n",
    "    return lis"
   ]
  },
  {
   "cell_type": "code",
   "execution_count": 114,
   "metadata": {},
   "outputs": [],
   "source": []
  },
  {
   "cell_type": "code",
   "execution_count": 129,
   "metadata": {},
   "outputs": [],
   "source": []
  },
  {
   "cell_type": "code",
   "execution_count": 130,
   "metadata": {},
   "outputs": [],
   "source": [
    "\n"
   ]
  },
  {
   "cell_type": "code",
   "execution_count": 131,
   "metadata": {},
   "outputs": [],
   "source": []
  },
  {
   "cell_type": "code",
   "execution_count": 132,
   "metadata": {},
   "outputs": [],
   "source": []
  },
  {
   "cell_type": "code",
   "execution_count": 133,
   "metadata": {},
   "outputs": [],
   "source": []
  },
  {
   "cell_type": "code",
   "execution_count": null,
   "metadata": {},
   "outputs": [],
   "source": []
  },
  {
   "cell_type": "code",
   "execution_count": 134,
   "metadata": {},
   "outputs": [],
   "source": []
  },
  {
   "cell_type": "code",
   "execution_count": null,
   "metadata": {},
   "outputs": [],
   "source": []
  },
  {
   "cell_type": "code",
   "execution_count": 182,
   "metadata": {},
   "outputs": [],
   "source": [
    "# need to hard code to replace the reg that doesn't match with [reg] of df\n",
    "nhl_df['reg'] = nhl_df['reg'].replace({\"St. Louis Blues\" : \"St. Louis\",\n",
    "                   \"Florida Panthers\": \"Miami–Fort Lauderdale\",\n",
    "                   'Carolina Hurricanes' : 'Raleigh',\n",
    "                   \"San Jose Sharks\" : 'San Francisco Bay Area',\n",
    "                   'New Jersey Devils': \"New York City\",\n",
    "                   'Colorado Avalanche': \"Denver\",\n",
    "                   \"Vegas Golden Knights\" : \"Las Vegas\",\n",
    "                   \"Arizona Coyotes\": \"Phoenix\",\n",
    "                    \"Anaheim Ducks\": \"Los Angeles\"})"
   ]
  },
  {
   "cell_type": "code",
   "execution_count": 136,
   "metadata": {},
   "outputs": [],
   "source": [
    "[x for x in nhl_df['reg'] if \"\" in x]\n",
    "nhl_df[nhl_df['team'] == \"St. Louis Blues\"][['team', \"reg\"]];"
   ]
  },
  {
   "cell_type": "code",
   "execution_count": 137,
   "metadata": {},
   "outputs": [],
   "source": [
    "## Finish the Nhl_clean\n",
    "## nfl;"
   ]
  },
  {
   "cell_type": "code",
   "execution_count": 138,
   "metadata": {},
   "outputs": [],
   "source": [
    "nfl_df.head();"
   ]
  },
  {
   "cell_type": "code",
   "execution_count": 139,
   "metadata": {},
   "outputs": [],
   "source": [
    "assymetry(nfl_df, df);"
   ]
  },
  {
   "cell_type": "code",
   "execution_count": 140,
   "metadata": {},
   "outputs": [],
   "source": [
    "nfl_df['reg'] = nfl_df['reg'].replace({\"Arizona Cardinals\": \"Phoenix\",\n",
    "                                \"Carolina Panthers\": \"Charlotte\",\n",
    "                                \"New England Patriots\": \"Boston\",\n",
    "                                 \"Oakland Raiders\":  \"San Francisco Bay Area\",\n",
    "                                \"Tennessee Titans\" : \"Nashville\"});"
   ]
  },
  {
   "cell_type": "code",
   "execution_count": 141,
   "metadata": {},
   "outputs": [],
   "source": [
    "[x for x in nfl_df['reg'] if \"Char\" in x];"
   ]
  },
  {
   "cell_type": "code",
   "execution_count": 143,
   "metadata": {},
   "outputs": [],
   "source": [
    "## Which is fine\n",
    "nba_df.head();\n",
    "\n"
   ]
  },
  {
   "cell_type": "code",
   "execution_count": 144,
   "metadata": {},
   "outputs": [],
   "source": [
    "assymetry(nba_df, df);"
   ]
  },
  {
   "cell_type": "code",
   "execution_count": 145,
   "metadata": {},
   "outputs": [],
   "source": [
    "nba_df['reg'] = nba_df['reg'].replace({\"Golden State Warriors\": \"San Francisco Bay Area\",\n",
    "                                \"(Utah Jazz\": \"Salt Lake City\",\n",
    "                                \"Brooklyn Nets\": \"New York City\"})\n",
    "nba_df[nba_df['team'] == \"Golden State Warriors\"][[\"team\", \"reg\"]];"
   ]
  },
  {
   "cell_type": "code",
   "execution_count": 146,
   "metadata": {},
   "outputs": [],
   "source": [
    "# find the team that doesn't have the name resembling the region\n",
    "mlb_df = giving_reg(mlb_df, df)\n",
    "assymetry(mlb_df, df);"
   ]
  },
  {
   "cell_type": "code",
   "execution_count": 147,
   "metadata": {},
   "outputs": [],
   "source": [
    "# lets hardcoded it\n",
    "mlb_df['reg'] = mlb_df['reg'].replace({\"Oakland Athletics\" : \"San Francisco Bay Area\",\n",
    "                                    \"Texas Rangers\"  : \"Dallas–Fort Worth\",\n",
    "                                    \"Colorado Rockies\": \"Denver\",\n",
    "                                    \"Arizona Diamondbacks\" : \"Phoenix\"})\n",
    "mlb_df[mlb_df['reg'] == 'St. Louis'];"
   ]
  },
  {
   "cell_type": "code",
   "execution_count": 148,
   "metadata": {},
   "outputs": [],
   "source": []
  },
  {
   "cell_type": "code",
   "execution_count": 149,
   "metadata": {},
   "outputs": [],
   "source": []
  },
  {
   "cell_type": "code",
   "execution_count": 150,
   "metadata": {},
   "outputs": [],
   "source": []
  },
  {
   "cell_type": "code",
   "execution_count": 151,
   "metadata": {},
   "outputs": [],
   "source": []
  },
  {
   "cell_type": "code",
   "execution_count": 152,
   "metadata": {},
   "outputs": [],
   "source": []
  },
  {
   "cell_type": "code",
   "execution_count": 153,
   "metadata": {},
   "outputs": [],
   "source": [
    "df.columns;"
   ]
  },
  {
   "cell_type": "code",
   "execution_count": 154,
   "metadata": {},
   "outputs": [],
   "source": [
    "# lets check for final\n",
    "mlb_df[mlb_df['reg'] == \"St. Louis\"][['team', \"reg\"]];"
   ]
  },
  {
   "cell_type": "markdown",
   "metadata": {},
   "source": [
    "#### show the sample of NHL (National Hokey League) Intially"
   ]
  },
  {
   "cell_type": "code",
   "execution_count": 175,
   "metadata": {},
   "outputs": [
    {
     "data": {
      "text/html": [
       "<div>\n",
       "<style scoped>\n",
       "    .dataframe tbody tr th:only-of-type {\n",
       "        vertical-align: middle;\n",
       "    }\n",
       "\n",
       "    .dataframe tbody tr th {\n",
       "        vertical-align: top;\n",
       "    }\n",
       "\n",
       "    .dataframe thead th {\n",
       "        text-align: right;\n",
       "    }\n",
       "</style>\n",
       "<table border=\"1\" class=\"dataframe\">\n",
       "  <thead>\n",
       "    <tr style=\"text-align: right;\">\n",
       "      <th></th>\n",
       "      <th>team</th>\n",
       "      <th>GP</th>\n",
       "      <th>W</th>\n",
       "      <th>L</th>\n",
       "      <th>OL</th>\n",
       "      <th>PTS</th>\n",
       "      <th>PTS%</th>\n",
       "      <th>GF</th>\n",
       "      <th>GA</th>\n",
       "      <th>SRS</th>\n",
       "      <th>SOS</th>\n",
       "      <th>RPt%</th>\n",
       "      <th>ROW</th>\n",
       "      <th>year</th>\n",
       "      <th>League</th>\n",
       "    </tr>\n",
       "  </thead>\n",
       "  <tbody>\n",
       "    <tr>\n",
       "      <th>0</th>\n",
       "      <td>Atlantic Division</td>\n",
       "      <td>Atlantic Division</td>\n",
       "      <td>Atlantic Division</td>\n",
       "      <td>Atlantic Division</td>\n",
       "      <td>Atlantic Division</td>\n",
       "      <td>Atlantic Division</td>\n",
       "      <td>Atlantic Division</td>\n",
       "      <td>Atlantic Division</td>\n",
       "      <td>Atlantic Division</td>\n",
       "      <td>Atlantic Division</td>\n",
       "      <td>Atlantic Division</td>\n",
       "      <td>Atlantic Division</td>\n",
       "      <td>Atlantic Division</td>\n",
       "      <td>2018</td>\n",
       "      <td>NHL</td>\n",
       "    </tr>\n",
       "    <tr>\n",
       "      <th>1</th>\n",
       "      <td>Tampa Bay Lightning*</td>\n",
       "      <td>82</td>\n",
       "      <td>54</td>\n",
       "      <td>23</td>\n",
       "      <td>5</td>\n",
       "      <td>113</td>\n",
       "      <td>.689</td>\n",
       "      <td>296</td>\n",
       "      <td>236</td>\n",
       "      <td>0.66</td>\n",
       "      <td>-0.07</td>\n",
       "      <td>.634</td>\n",
       "      <td>48</td>\n",
       "      <td>2018</td>\n",
       "      <td>NHL</td>\n",
       "    </tr>\n",
       "    <tr>\n",
       "      <th>2</th>\n",
       "      <td>Boston Bruins*</td>\n",
       "      <td>82</td>\n",
       "      <td>50</td>\n",
       "      <td>20</td>\n",
       "      <td>12</td>\n",
       "      <td>112</td>\n",
       "      <td>.683</td>\n",
       "      <td>270</td>\n",
       "      <td>214</td>\n",
       "      <td>0.62</td>\n",
       "      <td>-0.07</td>\n",
       "      <td>.610</td>\n",
       "      <td>47</td>\n",
       "      <td>2018</td>\n",
       "      <td>NHL</td>\n",
       "    </tr>\n",
       "    <tr>\n",
       "      <th>3</th>\n",
       "      <td>Toronto Maple Leafs*</td>\n",
       "      <td>82</td>\n",
       "      <td>49</td>\n",
       "      <td>26</td>\n",
       "      <td>7</td>\n",
       "      <td>105</td>\n",
       "      <td>.640</td>\n",
       "      <td>277</td>\n",
       "      <td>232</td>\n",
       "      <td>0.49</td>\n",
       "      <td>-0.06</td>\n",
       "      <td>.567</td>\n",
       "      <td>42</td>\n",
       "      <td>2018</td>\n",
       "      <td>NHL</td>\n",
       "    </tr>\n",
       "    <tr>\n",
       "      <th>4</th>\n",
       "      <td>Florida Panthers</td>\n",
       "      <td>82</td>\n",
       "      <td>44</td>\n",
       "      <td>30</td>\n",
       "      <td>8</td>\n",
       "      <td>96</td>\n",
       "      <td>.585</td>\n",
       "      <td>248</td>\n",
       "      <td>246</td>\n",
       "      <td>-0.01</td>\n",
       "      <td>-0.04</td>\n",
       "      <td>.537</td>\n",
       "      <td>41</td>\n",
       "      <td>2018</td>\n",
       "      <td>NHL</td>\n",
       "    </tr>\n",
       "  </tbody>\n",
       "</table>\n",
       "</div>"
      ],
      "text/plain": [
       "                   team                 GP                  W  \\\n",
       "0     Atlantic Division  Atlantic Division  Atlantic Division   \n",
       "1  Tampa Bay Lightning*                 82                 54   \n",
       "2        Boston Bruins*                 82                 50   \n",
       "3  Toronto Maple Leafs*                 82                 49   \n",
       "4      Florida Panthers                 82                 44   \n",
       "\n",
       "                   L                 OL                PTS               PTS%  \\\n",
       "0  Atlantic Division  Atlantic Division  Atlantic Division  Atlantic Division   \n",
       "1                 23                  5                113               .689   \n",
       "2                 20                 12                112               .683   \n",
       "3                 26                  7                105               .640   \n",
       "4                 30                  8                 96               .585   \n",
       "\n",
       "                  GF                 GA                SRS                SOS  \\\n",
       "0  Atlantic Division  Atlantic Division  Atlantic Division  Atlantic Division   \n",
       "1                296                236               0.66              -0.07   \n",
       "2                270                214               0.62              -0.07   \n",
       "3                277                232               0.49              -0.06   \n",
       "4                248                246              -0.01              -0.04   \n",
       "\n",
       "                RPt%                ROW  year League  \n",
       "0  Atlantic Division  Atlantic Division  2018    NHL  \n",
       "1               .634                 48  2018    NHL  \n",
       "2               .610                 47  2018    NHL  \n",
       "3               .567                 42  2018    NHL  \n",
       "4               .537                 41  2018    NHL  "
      ]
     },
     "execution_count": 175,
     "metadata": {},
     "output_type": "execute_result"
    }
   ],
   "source": [
    "nhl = pd.read_csv(\"assets/nhl.csv\") \n",
    "nhl.head()"
   ]
  },
  {
   "cell_type": "markdown",
   "metadata": {},
   "source": [
    "There are more of **team names** with some sort incoherence \n",
    "like after each name, an **astrick** sign , which really make the data not usefull in analysis\n",
    "let's see an example of 4 such name"
   ]
  },
  {
   "cell_type": "code",
   "execution_count": 176,
   "metadata": {},
   "outputs": [
    {
     "data": {
      "text/plain": [
       "['Tampa Bay Lightning*',\n",
       " 'Boston Bruins*',\n",
       " 'Toronto Maple Leafs*',\n",
       " 'Washington Capitals*']"
      ]
     },
     "execution_count": 176,
     "metadata": {},
     "output_type": "execute_result"
    }
   ],
   "source": [
    "[x for x in nhl['team'] if re.search(\"[^A-Za-z. ]+\", x)][:4]"
   ]
  },
  {
   "cell_type": "markdown",
   "metadata": {},
   "source": [
    "defining a function for clean the incoherence in the name,and make it common\n",
    "### basic sport_df clean fun\n",
    "\n",
    "after running the function, customised for these type of datasets, **see there are no abnomality in names**\n"
   ]
  },
  {
   "cell_type": "code",
   "execution_count": 177,
   "metadata": {},
   "outputs": [
    {
     "data": {
      "text/plain": [
       "['Atlantic Division',\n",
       " 'Tampa Bay Lightning',\n",
       " 'Boston Bruins',\n",
       " 'Toronto Maple Leafs']"
      ]
     },
     "execution_count": 177,
     "metadata": {},
     "output_type": "execute_result"
    }
   ],
   "source": [
    "def clean(sport):\n",
    "    sport[\"team\"] = sport['team'].replace({\"[^A-Za-z. ]*\": \"\"}, regex=True)\n",
    "    \n",
    "    return sport[sport['year'] == 2018]\n",
    "nhl = clean(nhl)\n",
    "[x for x in nhl['team'] if re.search(\"[A-Za-z. ]+\", x)][:4]"
   ]
  },
  {
   "cell_type": "markdown",
   "metadata": {},
   "source": [
    "### Assigning Region in each datasets\n",
    "\n",
    "Look there was no region for each team!\n",
    "**Here comes the action of** ***Python Programming***, **because in Excel, it almost quite tormenting to assign region** where *region needed to be matched from a genrealized data frame* which I called **root dataframe**\n",
    "\n",
    "Not a usual match\n",
    "Assymetry:\n",
    "- 1 - There are some names of teams which matched in some portion with the name of region like, ***team: St. louis Cadaver or sth*** and ***region: St. louis***\n",
    "- meaning there are names which portionately resemble the name of region\n",
    "- there are other names which completely different from its region ***like Dhaka : tigar cricket team*** which not really resemble the name a bit\n",
    "- so I needed to hard codded regions names of those team's name, reference from the root dataframe\n",
    "\n",
    "* Define a function `giving region` that do the task for me in each sport_datasets\n",
    "\n",
    "**look at the sample of the data, after running** ***giving_reg function***"
   ]
  },
  {
   "cell_type": "code",
   "execution_count": 178,
   "metadata": {},
   "outputs": [
    {
     "data": {
      "text/html": [
       "<div>\n",
       "<style scoped>\n",
       "    .dataframe tbody tr th:only-of-type {\n",
       "        vertical-align: middle;\n",
       "    }\n",
       "\n",
       "    .dataframe tbody tr th {\n",
       "        vertical-align: top;\n",
       "    }\n",
       "\n",
       "    .dataframe thead th {\n",
       "        text-align: right;\n",
       "    }\n",
       "</style>\n",
       "<table border=\"1\" class=\"dataframe\">\n",
       "  <thead>\n",
       "    <tr style=\"text-align: right;\">\n",
       "      <th></th>\n",
       "      <th>team</th>\n",
       "      <th>GP</th>\n",
       "      <th>W</th>\n",
       "      <th>L</th>\n",
       "      <th>OL</th>\n",
       "      <th>PTS</th>\n",
       "      <th>PTS%</th>\n",
       "      <th>GF</th>\n",
       "      <th>GA</th>\n",
       "      <th>SRS</th>\n",
       "      <th>SOS</th>\n",
       "      <th>RPt%</th>\n",
       "      <th>ROW</th>\n",
       "      <th>year</th>\n",
       "      <th>League</th>\n",
       "      <th>reg</th>\n",
       "    </tr>\n",
       "  </thead>\n",
       "  <tbody>\n",
       "    <tr>\n",
       "      <th>0</th>\n",
       "      <td>Atlantic Division</td>\n",
       "      <td>Atlantic Division</td>\n",
       "      <td>Atlantic Division</td>\n",
       "      <td>Atlantic Division</td>\n",
       "      <td>Atlantic Division</td>\n",
       "      <td>Atlantic Division</td>\n",
       "      <td>Atlantic Division</td>\n",
       "      <td>Atlantic Division</td>\n",
       "      <td>Atlantic Division</td>\n",
       "      <td>Atlantic Division</td>\n",
       "      <td>Atlantic Division</td>\n",
       "      <td>Atlantic Division</td>\n",
       "      <td>Atlantic Division</td>\n",
       "      <td>2018</td>\n",
       "      <td>NHL</td>\n",
       "      <td>Atlanta</td>\n",
       "    </tr>\n",
       "    <tr>\n",
       "      <th>1</th>\n",
       "      <td>Tampa Bay Lightning</td>\n",
       "      <td>82</td>\n",
       "      <td>54</td>\n",
       "      <td>23</td>\n",
       "      <td>5</td>\n",
       "      <td>113</td>\n",
       "      <td>.689</td>\n",
       "      <td>296</td>\n",
       "      <td>236</td>\n",
       "      <td>0.66</td>\n",
       "      <td>-0.07</td>\n",
       "      <td>.634</td>\n",
       "      <td>48</td>\n",
       "      <td>2018</td>\n",
       "      <td>NHL</td>\n",
       "      <td>Tampa Bay Area</td>\n",
       "    </tr>\n",
       "    <tr>\n",
       "      <th>2</th>\n",
       "      <td>Boston Bruins</td>\n",
       "      <td>82</td>\n",
       "      <td>50</td>\n",
       "      <td>20</td>\n",
       "      <td>12</td>\n",
       "      <td>112</td>\n",
       "      <td>.683</td>\n",
       "      <td>270</td>\n",
       "      <td>214</td>\n",
       "      <td>0.62</td>\n",
       "      <td>-0.07</td>\n",
       "      <td>.610</td>\n",
       "      <td>47</td>\n",
       "      <td>2018</td>\n",
       "      <td>NHL</td>\n",
       "      <td>Boston</td>\n",
       "    </tr>\n",
       "    <tr>\n",
       "      <th>3</th>\n",
       "      <td>Toronto Maple Leafs</td>\n",
       "      <td>82</td>\n",
       "      <td>49</td>\n",
       "      <td>26</td>\n",
       "      <td>7</td>\n",
       "      <td>105</td>\n",
       "      <td>.640</td>\n",
       "      <td>277</td>\n",
       "      <td>232</td>\n",
       "      <td>0.49</td>\n",
       "      <td>-0.06</td>\n",
       "      <td>.567</td>\n",
       "      <td>42</td>\n",
       "      <td>2018</td>\n",
       "      <td>NHL</td>\n",
       "      <td>Toronto</td>\n",
       "    </tr>\n",
       "    <tr>\n",
       "      <th>4</th>\n",
       "      <td>Florida Panthers</td>\n",
       "      <td>82</td>\n",
       "      <td>44</td>\n",
       "      <td>30</td>\n",
       "      <td>8</td>\n",
       "      <td>96</td>\n",
       "      <td>.585</td>\n",
       "      <td>248</td>\n",
       "      <td>246</td>\n",
       "      <td>-0.01</td>\n",
       "      <td>-0.04</td>\n",
       "      <td>.537</td>\n",
       "      <td>41</td>\n",
       "      <td>2018</td>\n",
       "      <td>NHL</td>\n",
       "      <td>Florida Panthers</td>\n",
       "    </tr>\n",
       "  </tbody>\n",
       "</table>\n",
       "</div>"
      ],
      "text/plain": [
       "                  team                 GP                  W  \\\n",
       "0    Atlantic Division  Atlantic Division  Atlantic Division   \n",
       "1  Tampa Bay Lightning                 82                 54   \n",
       "2        Boston Bruins                 82                 50   \n",
       "3  Toronto Maple Leafs                 82                 49   \n",
       "4     Florida Panthers                 82                 44   \n",
       "\n",
       "                   L                 OL                PTS               PTS%  \\\n",
       "0  Atlantic Division  Atlantic Division  Atlantic Division  Atlantic Division   \n",
       "1                 23                  5                113               .689   \n",
       "2                 20                 12                112               .683   \n",
       "3                 26                  7                105               .640   \n",
       "4                 30                  8                 96               .585   \n",
       "\n",
       "                  GF                 GA                SRS                SOS  \\\n",
       "0  Atlantic Division  Atlantic Division  Atlantic Division  Atlantic Division   \n",
       "1                296                236               0.66              -0.07   \n",
       "2                270                214               0.62              -0.07   \n",
       "3                277                232               0.49              -0.06   \n",
       "4                248                246              -0.01              -0.04   \n",
       "\n",
       "                RPt%                ROW  year League               reg  \n",
       "0  Atlantic Division  Atlantic Division  2018    NHL           Atlanta  \n",
       "1               .634                 48  2018    NHL    Tampa Bay Area  \n",
       "2               .610                 47  2018    NHL            Boston  \n",
       "3               .567                 42  2018    NHL           Toronto  \n",
       "4               .537                 41  2018    NHL  Florida Panthers  "
      ]
     },
     "execution_count": 178,
     "metadata": {},
     "output_type": "execute_result"
    }
   ],
   "source": [
    "giving_reg(nhl, df).head()"
   ]
  },
  {
   "cell_type": "markdown",
   "metadata": {},
   "source": [
    "### giving_reg function\n"
   ]
  },
  {
   "cell_type": "code",
   "execution_count": 179,
   "metadata": {},
   "outputs": [],
   "source": [
    "def giving_reg(sport_df, reg_df):\n",
    "    \n",
    "    #assign the team name to reg colum\n",
    "    sport_df['reg'] = sport_df['team']\n",
    "    \n",
    "    # get the reg\n",
    "    for reg in reg_df['Metropolitan area']:\n",
    "        # get the each team\n",
    "        for team in sport_df['reg']:\n",
    "            #condition whether the team name starts with first 5 words of reg_df\n",
    "            if not reg.startswith(team[:5]): continue\n",
    "            sport_df['reg'] = sport_df['reg'].replace(to_replace=team , value=reg)\n",
    "    return sport_df"
   ]
  },
  {
   "cell_type": "markdown",
   "metadata": {},
   "source": [
    "## Assymetry (optional func)"
   ]
  },
  {
   "cell_type": "code",
   "execution_count": null,
   "metadata": {},
   "outputs": [],
   "source": []
  },
  {
   "cell_type": "markdown",
   "metadata": {},
   "source": [
    "After Giving the region in each team, some teams region needed to hard coded\n",
    "- **how do i find the names of teams whose doesn't resemble the region at all**\n",
    "- A small `optional Function` called `assymetry`, customised for these specific problem, made to find out the the team's name which has inconsistent with the region name\n",
    "- for instance, in `NHL` dataframe, these team's name doesn't match with some portion of thier region name\n",
    "- for example: **Florida Partner** in **Miami region**"
   ]
  },
  {
   "cell_type": "code",
   "execution_count": 180,
   "metadata": {},
   "outputs": [
    {
     "data": {
      "text/plain": [
       "['Florida Panthers',\n",
       " 'Metropolitan Division',\n",
       " 'New Jersey Devils',\n",
       " 'Carolina Hurricanes',\n",
       " 'Central Division',\n",
       " 'Colorado Avalanche',\n",
       " 'Pacific Division',\n",
       " 'Vegas Golden Knights',\n",
       " 'Anaheim Ducks',\n",
       " 'San Jose Sharks',\n",
       " 'Arizona Coyotes']"
      ]
     },
     "execution_count": 180,
     "metadata": {},
     "output_type": "execute_result"
    }
   ],
   "source": [
    "assymetry(nhl,df)"
   ]
  },
  {
   "cell_type": "code",
   "execution_count": null,
   "metadata": {},
   "outputs": [],
   "source": []
  },
  {
   "cell_type": "code",
   "execution_count": 181,
   "metadata": {},
   "outputs": [],
   "source": [
    "def assymetry(sport, df):\n",
    "    lis = []\n",
    "    for reg in sport[\"reg\"].unique():\n",
    "        \n",
    "        if reg not in list(df['Metropolitan area'].unique()):\n",
    "            lis.append(reg)\n",
    "    return lis"
   ]
  },
  {
   "cell_type": "markdown",
   "metadata": {},
   "source": [
    "## merger fuction\n"
   ]
  },
  {
   "cell_type": "markdown",
   "metadata": {},
   "source": [
    "After that, i need `parameter of interests` or required `columns` to make necessery analysis\n",
    "\n",
    "for instance, i need to have the `population` columns which is in the `root dataframe`\n",
    "\n",
    "so Each Sports **Dataframe** needed to be merged with **root Dataframe** on the common columns\n",
    "\n",
    "which is `reg` in sports columns and `Metropolian area` in **Root Dataframe**\n",
    "\n",
    "a customised function `merger` that do the works for me in each sport datasets\n",
    "\n",
    "**let's look at a sample of it**\n",
    " "
   ]
  },
  {
   "cell_type": "code",
   "execution_count": 182,
   "metadata": {},
   "outputs": [
    {
     "data": {
      "text/html": [
       "<div>\n",
       "<style scoped>\n",
       "    .dataframe tbody tr th:only-of-type {\n",
       "        vertical-align: middle;\n",
       "    }\n",
       "\n",
       "    .dataframe tbody tr th {\n",
       "        vertical-align: top;\n",
       "    }\n",
       "\n",
       "    .dataframe thead th {\n",
       "        text-align: right;\n",
       "    }\n",
       "</style>\n",
       "<table border=\"1\" class=\"dataframe\">\n",
       "  <thead>\n",
       "    <tr style=\"text-align: right;\">\n",
       "      <th></th>\n",
       "      <th>reg</th>\n",
       "      <th>Population</th>\n",
       "      <th>W</th>\n",
       "      <th>L</th>\n",
       "    </tr>\n",
       "  </thead>\n",
       "  <tbody>\n",
       "    <tr>\n",
       "      <th>0</th>\n",
       "      <td>New York City</td>\n",
       "      <td>20153634</td>\n",
       "      <td>35</td>\n",
       "      <td>37</td>\n",
       "    </tr>\n",
       "    <tr>\n",
       "      <th>1</th>\n",
       "      <td>New York City</td>\n",
       "      <td>20153634</td>\n",
       "      <td>34</td>\n",
       "      <td>39</td>\n",
       "    </tr>\n",
       "    <tr>\n",
       "      <th>2</th>\n",
       "      <td>Los Angeles</td>\n",
       "      <td>13310447</td>\n",
       "      <td>45</td>\n",
       "      <td>29</td>\n",
       "    </tr>\n",
       "    <tr>\n",
       "      <th>3</th>\n",
       "      <td>Chicago</td>\n",
       "      <td>9512999</td>\n",
       "      <td>33</td>\n",
       "      <td>39</td>\n",
       "    </tr>\n",
       "    <tr>\n",
       "      <th>4</th>\n",
       "      <td>Dallas–Fort Worth</td>\n",
       "      <td>7233323</td>\n",
       "      <td>42</td>\n",
       "      <td>32</td>\n",
       "    </tr>\n",
       "  </tbody>\n",
       "</table>\n",
       "</div>"
      ],
      "text/plain": [
       "                 reg Population   W   L\n",
       "0      New York City   20153634  35  37\n",
       "1      New York City   20153634  34  39\n",
       "2        Los Angeles   13310447  45  29\n",
       "3            Chicago    9512999  33  39\n",
       "4  Dallas–Fort Worth    7233323  42  32"
      ]
     },
     "execution_count": 182,
     "metadata": {},
     "output_type": "execute_result"
    }
   ],
   "source": [
    "nhl = merger(nhl, df).head()\n",
    "nhl.head()"
   ]
  },
  {
   "cell_type": "code",
   "execution_count": 17,
   "metadata": {},
   "outputs": [],
   "source": [
    "def merger(sport_df, df):\n",
    "    result = (df.merge(sport_df, how=\"inner\", left_on=\"Metropolitan area\", right_on=\"reg\")\n",
    "                                    .loc[:, ['reg', \"Population\", \"W\", \"L\"]])\n",
    "    return result"
   ]
  },
  {
   "cell_type": "markdown",
   "metadata": {},
   "source": [
    "### Function for to_numeric\n"
   ]
  },
  {
   "cell_type": "markdown",
   "metadata": {},
   "source": [
    "A function that convert the `object` *datatype* into `Integer` datatype\n",
    "let's call it `mk_numeric`\n",
    "let's look at a sample of it"
   ]
  },
  {
   "cell_type": "code",
   "execution_count": 183,
   "metadata": {},
   "outputs": [
    {
     "data": {
      "text/plain": [
       "reg           object\n",
       "Population     int64\n",
       "W              int64\n",
       "L              int64\n",
       "dtype: object"
      ]
     },
     "execution_count": 183,
     "metadata": {},
     "output_type": "execute_result"
    }
   ],
   "source": [
    "nhl = mk_numeric(nhl)\n",
    "nhl.dtypes"
   ]
  },
  {
   "cell_type": "code",
   "execution_count": 13,
   "metadata": {},
   "outputs": [],
   "source": [
    "def mk_numeric(sport_df):\n",
    "    # iterate over the column name\n",
    "    for clm in sport_df.columns:\n",
    "        if clm ==\"reg\" : continue\n",
    "        sport_df[clm] = pd.to_numeric(sport_df[clm], errors = 'coerce')\n",
    "    return sport_df\n"
   ]
  },
  {
   "cell_type": "markdown",
   "metadata": {},
   "source": [
    "### Function for win_loss ratio"
   ]
  },
  {
   "cell_type": "markdown",
   "metadata": {},
   "source": [
    "To count the each region's win-loss-ratio\n",
    "\n",
    "`win_loss_ratio` function giving the whole dataset with the calculated `win-loos-ratio`\n",
    "\n",
    "a sample of it"
   ]
  },
  {
   "cell_type": "code",
   "execution_count": 184,
   "metadata": {},
   "outputs": [
    {
     "data": {
      "text/html": [
       "<div>\n",
       "<style scoped>\n",
       "    .dataframe tbody tr th:only-of-type {\n",
       "        vertical-align: middle;\n",
       "    }\n",
       "\n",
       "    .dataframe tbody tr th {\n",
       "        vertical-align: top;\n",
       "    }\n",
       "\n",
       "    .dataframe thead th {\n",
       "        text-align: right;\n",
       "    }\n",
       "</style>\n",
       "<table border=\"1\" class=\"dataframe\">\n",
       "  <thead>\n",
       "    <tr style=\"text-align: right;\">\n",
       "      <th></th>\n",
       "      <th>reg</th>\n",
       "      <th>Population</th>\n",
       "      <th>W</th>\n",
       "      <th>L</th>\n",
       "      <th>W_L_ratio</th>\n",
       "    </tr>\n",
       "  </thead>\n",
       "  <tbody>\n",
       "    <tr>\n",
       "      <th>0</th>\n",
       "      <td>Chicago</td>\n",
       "      <td>9512999</td>\n",
       "      <td>33</td>\n",
       "      <td>39</td>\n",
       "      <td>0.458333</td>\n",
       "    </tr>\n",
       "    <tr>\n",
       "      <th>1</th>\n",
       "      <td>Dallas–Fort Worth</td>\n",
       "      <td>7233323</td>\n",
       "      <td>42</td>\n",
       "      <td>32</td>\n",
       "      <td>0.567568</td>\n",
       "    </tr>\n",
       "    <tr>\n",
       "      <th>2</th>\n",
       "      <td>Los Angeles</td>\n",
       "      <td>13310447</td>\n",
       "      <td>45</td>\n",
       "      <td>29</td>\n",
       "      <td>0.608108</td>\n",
       "    </tr>\n",
       "    <tr>\n",
       "      <th>3</th>\n",
       "      <td>New York City</td>\n",
       "      <td>20153634</td>\n",
       "      <td>69</td>\n",
       "      <td>76</td>\n",
       "      <td>0.475862</td>\n",
       "    </tr>\n",
       "  </tbody>\n",
       "</table>\n",
       "</div>"
      ],
      "text/plain": [
       "                 reg  Population   W   L  W_L_ratio\n",
       "0            Chicago     9512999  33  39   0.458333\n",
       "1  Dallas–Fort Worth     7233323  42  32   0.567568\n",
       "2        Los Angeles    13310447  45  29   0.608108\n",
       "3      New York City    20153634  69  76   0.475862"
      ]
     },
     "execution_count": 184,
     "metadata": {},
     "output_type": "execute_result"
    }
   ],
   "source": [
    "nhl = win_loss_ratio(nhl)\n",
    "nhl.head()"
   ]
  },
  {
   "cell_type": "code",
   "execution_count": 29,
   "metadata": {},
   "outputs": [],
   "source": [
    "def win_loss_ratio(sport_df):\n",
    "    sport_df = sport_df.groupby([\"reg\", \"Population\"]).agg({\"W\": np.sum,\n",
    "                                                \"L\" : np.sum}).reset_index()\n",
    "    \n",
    "    sport_df[\"W_L_ratio\"] = sport_df[\"W\"] / (sport_df[\"W\"] + sport_df['L'])\n",
    "    \n",
    "    return sport_df.fillna(0)"
   ]
  },
  {
   "cell_type": "markdown",
   "metadata": {},
   "source": [
    "### Function for correlation\n"
   ]
  },
  {
   "cell_type": "markdown",
   "metadata": {},
   "source": [
    "A function corr, customized for giving the **correaltion** of each `final clean datasets` between the , let's say `Population` and `win-loss-ratio`"
   ]
  },
  {
   "cell_type": "code",
   "execution_count": 15,
   "metadata": {},
   "outputs": [],
   "source": [
    "import scipy.stats as stats\n",
    "def corr(sport_df):\n",
    "    return stats.pearsonr(sport_df['Population'], sport_df['W_L_ratio'])"
   ]
  },
  {
   "cell_type": "markdown",
   "metadata": {},
   "source": [
    "### NHL (national Hocky Datasets) \n",
    "after **making** these `function`: \n",
    "\n",
    "let's find the `correlation` between `Population` in **each region** and thier `win loss ratio` in respective **sports**"
   ]
  },
  {
   "cell_type": "code",
   "execution_count": 187,
   "metadata": {},
   "outputs": [
    {
     "name": "stdout",
     "output_type": "stream",
     "text": [
      "Correlation: 0.012308996455744264 P_value: 0.9504308637909502\n"
     ]
    }
   ],
   "source": [
    "nhl_df = pd.read_csv(\"assets/nhl.csv\")\n",
    "nhl_df = clean(nhl_df)\n",
    "nhl_df = giving_reg(nhl_df, df)\n",
    "nhl_df['reg'] = nhl_df['reg'] = nhl_df['reg'].replace({\"St. Louis Blues\" : \"St. Louis\",\n",
    "                   \"Florida Panthers\": \"Miami–Fort Lauderdale\",\n",
    "                   'Carolina Hurricanes' : 'Raleigh',\n",
    "                   \"San Jose Sharks\" : 'San Francisco Bay Area',\n",
    "                   'New Jersey Devils': \"New York City\",\n",
    "                   'Colorado Avalanche': \"Denver\",\n",
    "                   \"Vegas Golden Knights\" : \"Las Vegas\",\n",
    "                   \"Arizona Coyotes\": \"Phoenix\",\n",
    "                    \"Anaheim Ducks\": \"Los Angeles\"})\n",
    "\n",
    "# nhl_df = (df.merge(nhl_df, how=\"inner\", left_on=\"Metropolitan area\", right_on=\"reg\")\n",
    "#                                     .loc[:, ['reg', \"Population\", \"W\", \"L\"]])\n",
    "nhl_df = merger(nhl_df, df)\n",
    "\n",
    "# for clm in nhl_df.columns:\n",
    "#     if clm == \"reg\": continue\n",
    "#     nhl_df[clm] = pd.to_numeric(nhl_df[clm], errors=\"coerce\")\n",
    "nhl_df = mk_numeric(nhl_df)\n",
    "nhl_df.dtypes\n",
    "nhl_df = win_loss_ratio(nhl_df)\n",
    "nhl_df.head()\n",
    "nhl_df = nhl_df.iloc[1:, :] # ignore the Atlanta columns which doesn't have value in sports DF\n",
    "print(\"Correlation: \" +str(corr(nhl_df)[0])+ \" P_value: \" +str(corr(nhl_df)[1])) "
   ]
  },
  {
   "cell_type": "code",
   "execution_count": 188,
   "metadata": {},
   "outputs": [],
   "source": [
    "nhl_df.shape;"
   ]
  },
  {
   "cell_type": "code",
   "execution_count": 189,
   "metadata": {},
   "outputs": [],
   "source": [
    "#nhl_df = nhl_df.fillna(0)\n",
    "corr(nhl_df.iloc[1:, :]);"
   ]
  },
  {
   "cell_type": "markdown",
   "metadata": {},
   "source": [
    "#### Consice version of Ass-4 Question 2\n"
   ]
  },
  {
   "cell_type": "markdown",
   "metadata": {},
   "source": [
    "Same processs for ***NFL*** Datasests (Nation Football League) which is *Rugby* in America"
   ]
  },
  {
   "cell_type": "code",
   "execution_count": 192,
   "metadata": {},
   "outputs": [
    {
     "name": "stdout",
     "output_type": "stream",
     "text": [
      "Correlation: 0.004922112149349456, P_value: 0.9797833458363694\n"
     ]
    }
   ],
   "source": [
    "nfl_df = pd.read_csv(\"assets/nfl.csv\")\n",
    "nfl_df = clean(nfl_df)\n",
    "nfl_df = giving_reg(nfl_df, df)\n",
    "nfl_df['reg'] = nfl_df['reg'].replace({\"Arizona Cardinals\": \"Phoenix\",\n",
    "                                \"Carolina Panthers\": \"Charlotte\",\n",
    "                                \"New England Patriots\": \"Boston\",\n",
    "                                 \"Oakland Raiders\":  \"San Francisco Bay Area\",\n",
    "                                \"Tennessee Titans\" : \"Nashville\"})\n",
    "\n",
    "# nfl_df = (df.merge(nfl_df, how=\"inner\", left_on=\"Metropolitan area\", right_on=\"reg\")\n",
    "#             .loc[:, [\"reg\", \"Population\", \"W\", \"L\"]])\n",
    "\n",
    "nfl_df = merger(nfl_df, df)\n",
    "\n",
    "nfl_df = mk_numeric(nfl_df)\n",
    "\n",
    "nfl_df = win_loss_ratio(nfl_df)\n",
    "nfl_df.head()\n",
    "cor = corr(nfl_df)\n",
    "print(\"Correlation: \"+ str(cor[0]) + \", P_value: \"+ str(cor[1]))"
   ]
  },
  {
   "cell_type": "markdown",
   "metadata": {},
   "source": [
    "#### Consice version of NBA question"
   ]
  },
  {
   "cell_type": "code",
   "execution_count": 194,
   "metadata": {},
   "outputs": [
    {
     "name": "stdout",
     "output_type": "stream",
     "text": [
      "Correlaiton: -0.17657160252844611, P_value: 0.3687474160446298\n"
     ]
    }
   ],
   "source": [
    "nba_df = pd.read_csv(\"assets/nba.csv\")\n",
    "\n",
    "nba_df = clean(nba_df)\n",
    "nba_df6 = giving_reg(nba_df, df)\n",
    "## needed to hard coded some region in assymetry resulted team\n",
    "nba_df ['reg'] = nba_df['reg'].replace({\"Golden State Warriors\": \"San Francisco Bay Area\",\n",
    "                                \"Utah Jazz\": \"Salt Lake City\",\n",
    "                                \"Brooklyn Nets\": \"New York City\"})\n",
    "nba_df = merger(nba_df, df)\n",
    "nba_df = mk_numeric(nba_df)\n",
    "nba_df = win_loss_ratio(nba_df)\n",
    "\n",
    "#nba_df.head()\n",
    "nba_cor =corr(nba_df)\n",
    "print(\"Correlaiton: \"+ str(nba_cor[0])+ \", P_value: \"+ str(nba_cor[1]))"
   ]
  },
  {
   "cell_type": "code",
   "execution_count": 196,
   "metadata": {},
   "outputs": [],
   "source": [
    "#nba_df[nba_df['team'] == \"St. Loius\"][[\"team\", \"reg\"]];"
   ]
  },
  {
   "cell_type": "code",
   "execution_count": null,
   "metadata": {},
   "outputs": [],
   "source": []
  },
  {
   "cell_type": "markdown",
   "metadata": {},
   "source": [
    "### Consice version of MLB data que"
   ]
  },
  {
   "cell_type": "code",
   "execution_count": 197,
   "metadata": {},
   "outputs": [
    {
     "name": "stdout",
     "output_type": "stream",
     "text": [
      "Correlaiton: 0.1505230448710485, P_value: 0.4629669779770907\n"
     ]
    }
   ],
   "source": [
    "mlb_df = pd.read_csv(\"assets/mlb.csv\")\n",
    "\n",
    "mlb_df = clean(mlb_df)\n",
    "mlb_df = giving_reg(mlb_df, df)\n",
    "# hard coded some region of some team which doesn't have resemble in name!!!\n",
    "mlb_df['reg'] = mlb_df['reg'].replace({\"Oakland Athletics\" : \"San Francisco Bay Area\",\n",
    "                                    \"Texas Rangers\"  : \"Dallas–Fort Worth\",\n",
    "                                    \"Colorado Rockies\": \"Denver\",\n",
    "                                    \"Arizona Diamondbacks\" : \"Phoenix\"})\n",
    "\n",
    "mlb_df = merger(mlb_df, df)\n",
    "mlb_df = mk_numeric(mlb_df)\n",
    "mlb_df = win_loss_ratio(mlb_df)\n",
    "cor = corr(mlb_df)\n",
    "print(\"Correlaiton: \"+ str(cor[0])+ \", P_value: \"+ str(cor[1]))"
   ]
  },
  {
   "cell_type": "code",
   "execution_count": 198,
   "metadata": {},
   "outputs": [],
   "source": [
    "mlb_df[mlb_df['reg'] == \"Phoenix\"];"
   ]
  },
  {
   "cell_type": "code",
   "execution_count": null,
   "metadata": {},
   "outputs": [],
   "source": []
  },
  {
   "cell_type": "code",
   "execution_count": 200,
   "metadata": {},
   "outputs": [],
   "source": [
    "[x for x in nhl_df['reg'] if \"At\" in x];"
   ]
  },
  {
   "cell_type": "markdown",
   "metadata": {},
   "source": [
    "## Question 5\n",
    "In this question I would like you to explore the hypothesis that **given that an area has two sports teams in different sports, those teams will perform the same within their respective sports**. How I would like to see this explored is with a series of paired t-tests (so use [`ttest_rel`](https://docs.scipy.org/doc/scipy/reference/generated/scipy.stats.ttest_rel.html)) between all pairs of sports. Are there any sports where we can reject the null hypothesis? Again, average values where a sport has multiple teams in one region. Remember, you will only be including, for each sport, cities which have teams engaged in that sport, drop others as appropriate. This question is worth 20% of the grade for this assignment."
   ]
  },
  {
   "cell_type": "markdown",
   "metadata": {},
   "source": [
    "### The null Hypothesis:\n",
    "**in a given area or region, at least a sport teams in each of sports like `NBA`, `NHL`, `MLB`, `NFL`:**\n",
    "\n",
    "**H0 = `win_loss_ratio`** of *teams in the respective sports in a given region* **same** in each **sports**\n",
    "\n",
    "\n",
    "**H1 = `win_loss_ratio`** of *teams in the respective sports in a given region* **different** in each **sports**"
   ]
  },
  {
   "cell_type": "code",
   "execution_count": 53,
   "metadata": {},
   "outputs": [],
   "source": [
    "# def join_4df1(df1, df2, df3, df4):\n",
    "#     lis = [df1, df2, df3, df4]\n",
    "#     # take one df\n",
    "#     for one in lis:\n",
    "#         #join with all\n",
    "#         for others in lis:\n",
    "            \n",
    "#             return others\n",
    "# join_4df(1,2,3,4)\n"
   ]
  },
  {
   "cell_type": "markdown",
   "metadata": {},
   "source": [
    "### Joining 4 dataset to each other [ join_4df func]"
   ]
  },
  {
   "cell_type": "markdown",
   "metadata": {},
   "source": [
    "TO test the significat:\n",
    "- Each final datasets need to be merged with each other\n",
    "- total datasets form `4 Dataframe` would be `16 Dataframe`\n",
    "- for example: NHL-NHL, NHL-NFL, NHL-NBA, NHL-MLB\n",
    "- total from 4 distinct final datasets, 16 Datasets created \n",
    "- inorder to do that, a customized `Function` called `SP_DF_Merge` and ` join-4df` created"
   ]
  },
  {
   "cell_type": "code",
   "execution_count": 56,
   "metadata": {},
   "outputs": [],
   "source": [
    "def sp_df_merge(df1,df2):\n",
    "    return df1.merge(df2, how=\"inner\", on=\"reg\")\n",
    "\n",
    "def join_4df(df1, df2, df3, df4):\n",
    "    df1_df1 = sp_df_merge(df1, df1)\n",
    "    df1_df2 = sp_df_merge(df1, df2)\n",
    "    df1_df3 = sp_df_merge(df1, df3)\n",
    "    df1_df4 = sp_df_merge(df1, df4)\n",
    "    \n",
    "    return (df1_df1, df1_df2, df1_df3, df1_df4)\n"
   ]
  },
  {
   "cell_type": "markdown",
   "metadata": {},
   "source": [
    "***An example of Merged Dataset***\n"
   ]
  },
  {
   "cell_type": "code",
   "execution_count": 201,
   "metadata": {},
   "outputs": [
    {
     "data": {
      "text/html": [
       "<div>\n",
       "<style scoped>\n",
       "    .dataframe tbody tr th:only-of-type {\n",
       "        vertical-align: middle;\n",
       "    }\n",
       "\n",
       "    .dataframe tbody tr th {\n",
       "        vertical-align: top;\n",
       "    }\n",
       "\n",
       "    .dataframe thead th {\n",
       "        text-align: right;\n",
       "    }\n",
       "</style>\n",
       "<table border=\"1\" class=\"dataframe\">\n",
       "  <thead>\n",
       "    <tr style=\"text-align: right;\">\n",
       "      <th></th>\n",
       "      <th>reg</th>\n",
       "      <th>Population_x</th>\n",
       "      <th>W_x</th>\n",
       "      <th>L_x</th>\n",
       "      <th>W_L_ratio_x</th>\n",
       "      <th>Population_y</th>\n",
       "      <th>W_y</th>\n",
       "      <th>L_y</th>\n",
       "      <th>W_L_ratio_y</th>\n",
       "    </tr>\n",
       "  </thead>\n",
       "  <tbody>\n",
       "    <tr>\n",
       "      <th>0</th>\n",
       "      <td>Boston</td>\n",
       "      <td>4794447</td>\n",
       "      <td>50.0</td>\n",
       "      <td>20.0</td>\n",
       "      <td>0.714286</td>\n",
       "      <td>4794447</td>\n",
       "      <td>11</td>\n",
       "      <td>5</td>\n",
       "      <td>0.6875</td>\n",
       "    </tr>\n",
       "    <tr>\n",
       "      <th>1</th>\n",
       "      <td>Buffalo</td>\n",
       "      <td>1132804</td>\n",
       "      <td>25.0</td>\n",
       "      <td>45.0</td>\n",
       "      <td>0.357143</td>\n",
       "      <td>1132804</td>\n",
       "      <td>6</td>\n",
       "      <td>10</td>\n",
       "      <td>0.3750</td>\n",
       "    </tr>\n",
       "    <tr>\n",
       "      <th>2</th>\n",
       "      <td>Chicago</td>\n",
       "      <td>9512999</td>\n",
       "      <td>33.0</td>\n",
       "      <td>39.0</td>\n",
       "      <td>0.458333</td>\n",
       "      <td>9512999</td>\n",
       "      <td>12</td>\n",
       "      <td>4</td>\n",
       "      <td>0.7500</td>\n",
       "    </tr>\n",
       "    <tr>\n",
       "      <th>3</th>\n",
       "      <td>Dallas–Fort Worth</td>\n",
       "      <td>7233323</td>\n",
       "      <td>42.0</td>\n",
       "      <td>32.0</td>\n",
       "      <td>0.567568</td>\n",
       "      <td>7233323</td>\n",
       "      <td>10</td>\n",
       "      <td>6</td>\n",
       "      <td>0.6250</td>\n",
       "    </tr>\n",
       "    <tr>\n",
       "      <th>4</th>\n",
       "      <td>Denver</td>\n",
       "      <td>2853077</td>\n",
       "      <td>43.0</td>\n",
       "      <td>30.0</td>\n",
       "      <td>0.589041</td>\n",
       "      <td>2853077</td>\n",
       "      <td>6</td>\n",
       "      <td>10</td>\n",
       "      <td>0.3750</td>\n",
       "    </tr>\n",
       "  </tbody>\n",
       "</table>\n",
       "</div>"
      ],
      "text/plain": [
       "                 reg  Population_x   W_x   L_x  W_L_ratio_x  Population_y  \\\n",
       "0             Boston       4794447  50.0  20.0     0.714286       4794447   \n",
       "1            Buffalo       1132804  25.0  45.0     0.357143       1132804   \n",
       "2            Chicago       9512999  33.0  39.0     0.458333       9512999   \n",
       "3  Dallas–Fort Worth       7233323  42.0  32.0     0.567568       7233323   \n",
       "4             Denver       2853077  43.0  30.0     0.589041       2853077   \n",
       "\n",
       "   W_y  L_y  W_L_ratio_y  \n",
       "0   11    5       0.6875  \n",
       "1    6   10       0.3750  \n",
       "2   12    4       0.7500  \n",
       "3   10    6       0.6250  \n",
       "4    6   10       0.3750  "
      ]
     },
     "execution_count": 201,
     "metadata": {},
     "output_type": "execute_result"
    }
   ],
   "source": [
    "nhl_nfl.head()"
   ]
  },
  {
   "cell_type": "markdown",
   "metadata": {},
   "source": [
    "### p_value function"
   ]
  },
  {
   "cell_type": "markdown",
   "metadata": {},
   "source": [
    "in order to get the ***P value of 16 datasets out of 4 datasets***\n",
    "\n",
    "a function called `p_value(which require giving 4 datasets)`\n",
    "\n",
    "Giving the P_value of datasets in each!"
   ]
  },
  {
   "cell_type": "code",
   "execution_count": 81,
   "metadata": {},
   "outputs": [],
   "source": [
    "from scipy.stats import ttest_rel\n",
    "def p_value(df1, df2, df3, df4):\n",
    "    pval = []\n",
    "    for df in [df1, df2, df3, df4]:\n",
    "        pval.append(ttest_rel(df[\"W_L_ratio_x\"], df[\"W_L_ratio_y\"])[1])\n",
    "    return pval\n",
    "\n"
   ]
  },
  {
   "cell_type": "code",
   "execution_count": 88,
   "metadata": {},
   "outputs": [],
   "source": [
    "nhl_nhl , nhl_nfl, nhl_mlb, nhl_nba = join_4df(nhl_df, nfl_df, mlb_df, nba_df)\n",
    "nfl_nfl, nfl_nhl, nfl_mlb, nfl_nba = join_4df(nfl_df, nhl_df, mlb_df, nba_df)\n",
    "mlb_mlb, mlb_nhl, mlb_nfl, mlb_nba = join_4df(mlb_df, nhl_df, nfl_df, nba_df)\n",
    "nba_nba, nba_nhl, nba_nfl, nba_mlb = join_4df(nba_df, nhl_df, nfl_df, mlb_df)"
   ]
  },
  {
   "cell_type": "code",
   "execution_count": 75,
   "metadata": {},
   "outputs": [
    {
     "data": {
      "text/html": [
       "<div>\n",
       "<style scoped>\n",
       "    .dataframe tbody tr th:only-of-type {\n",
       "        vertical-align: middle;\n",
       "    }\n",
       "\n",
       "    .dataframe tbody tr th {\n",
       "        vertical-align: top;\n",
       "    }\n",
       "\n",
       "    .dataframe thead th {\n",
       "        text-align: right;\n",
       "    }\n",
       "</style>\n",
       "<table border=\"1\" class=\"dataframe\">\n",
       "  <thead>\n",
       "    <tr style=\"text-align: right;\">\n",
       "      <th></th>\n",
       "      <th>reg</th>\n",
       "      <th>Population_x</th>\n",
       "      <th>W_x</th>\n",
       "      <th>L_x</th>\n",
       "      <th>W_L_ratio_x</th>\n",
       "      <th>Population_y</th>\n",
       "      <th>W_y</th>\n",
       "      <th>L_y</th>\n",
       "      <th>W_L_ratio_y</th>\n",
       "    </tr>\n",
       "  </thead>\n",
       "  <tbody>\n",
       "    <tr>\n",
       "      <th>0</th>\n",
       "      <td>Atlanta</td>\n",
       "      <td>5789700</td>\n",
       "      <td>0.0</td>\n",
       "      <td>0.0</td>\n",
       "      <td>0.000000</td>\n",
       "      <td>5789700</td>\n",
       "      <td>0.0</td>\n",
       "      <td>0.0</td>\n",
       "      <td>0.000000</td>\n",
       "    </tr>\n",
       "    <tr>\n",
       "      <th>1</th>\n",
       "      <td>Boston</td>\n",
       "      <td>4794447</td>\n",
       "      <td>50.0</td>\n",
       "      <td>20.0</td>\n",
       "      <td>0.714286</td>\n",
       "      <td>4794447</td>\n",
       "      <td>50.0</td>\n",
       "      <td>20.0</td>\n",
       "      <td>0.714286</td>\n",
       "    </tr>\n",
       "    <tr>\n",
       "      <th>2</th>\n",
       "      <td>Buffalo</td>\n",
       "      <td>1132804</td>\n",
       "      <td>25.0</td>\n",
       "      <td>45.0</td>\n",
       "      <td>0.357143</td>\n",
       "      <td>1132804</td>\n",
       "      <td>25.0</td>\n",
       "      <td>45.0</td>\n",
       "      <td>0.357143</td>\n",
       "    </tr>\n",
       "    <tr>\n",
       "      <th>3</th>\n",
       "      <td>Calgary</td>\n",
       "      <td>1392609</td>\n",
       "      <td>37.0</td>\n",
       "      <td>35.0</td>\n",
       "      <td>0.513889</td>\n",
       "      <td>1392609</td>\n",
       "      <td>37.0</td>\n",
       "      <td>35.0</td>\n",
       "      <td>0.513889</td>\n",
       "    </tr>\n",
       "    <tr>\n",
       "      <th>4</th>\n",
       "      <td>Chicago</td>\n",
       "      <td>9512999</td>\n",
       "      <td>33.0</td>\n",
       "      <td>39.0</td>\n",
       "      <td>0.458333</td>\n",
       "      <td>9512999</td>\n",
       "      <td>33.0</td>\n",
       "      <td>39.0</td>\n",
       "      <td>0.458333</td>\n",
       "    </tr>\n",
       "  </tbody>\n",
       "</table>\n",
       "</div>"
      ],
      "text/plain": [
       "       reg  Population_x   W_x   L_x  W_L_ratio_x  Population_y   W_y   L_y  \\\n",
       "0  Atlanta       5789700   0.0   0.0     0.000000       5789700   0.0   0.0   \n",
       "1   Boston       4794447  50.0  20.0     0.714286       4794447  50.0  20.0   \n",
       "2  Buffalo       1132804  25.0  45.0     0.357143       1132804  25.0  45.0   \n",
       "3  Calgary       1392609  37.0  35.0     0.513889       1392609  37.0  35.0   \n",
       "4  Chicago       9512999  33.0  39.0     0.458333       9512999  33.0  39.0   \n",
       "\n",
       "   W_L_ratio_y  \n",
       "0     0.000000  \n",
       "1     0.714286  \n",
       "2     0.357143  \n",
       "3     0.513889  \n",
       "4     0.458333  "
      ]
     },
     "execution_count": 75,
     "metadata": {},
     "output_type": "execute_result"
    }
   ],
   "source": [
    "nhl_nhl.head()"
   ]
  },
  {
   "cell_type": "code",
   "execution_count": 205,
   "metadata": {},
   "outputs": [
    {
     "name": "stderr",
     "output_type": "stream",
     "text": [
      "C:\\Users\\User\\anaconda3\\lib\\site-packages\\scipy\\stats\\_distn_infrastructure.py:1932: RuntimeWarning: invalid value encountered in less_equal\n",
      "  cond2 = cond0 & (x <= _a)\n"
     ]
    }
   ],
   "source": [
    "pval_df = pd.DataFrame({\"NHL\": p_value(nhl_nhl, nhl_nfl, nhl_mlb, nhl_nba),\n",
    "                       \"NFL\": p_value(nfl_nhl, nfl_nfl, nfl_mlb, nfl_nba),\n",
    "                       \"MLB\": p_value(mlb_nhl, mlb_nfl, mlb_mlb, mlb_nba),\n",
    "                       \"NBA\" : p_value(nba_nhl, nba_nfl, nba_mlb, nba_nba)},\n",
    "                      index=[\"NHL\", \"NFL\", \"MLB\", \"NBA\"])\n",
    "pval_df;\n",
    "\n",
    "## mistake one\n",
    "# in nhl df, Atlanta shouldn't be"
   ]
  },
  {
   "cell_type": "code",
   "execution_count": 202,
   "metadata": {},
   "outputs": [],
   "source": [
    "nba_nhl.shape;"
   ]
  },
  {
   "cell_type": "code",
   "execution_count": 203,
   "metadata": {},
   "outputs": [],
   "source": [
    "nba_nhl;"
   ]
  },
  {
   "cell_type": "markdown",
   "metadata": {},
   "source": [
    "##### Final output arranged in table formet, so it becomes easy to interpret"
   ]
  },
  {
   "cell_type": "code",
   "execution_count": 90,
   "metadata": {},
   "outputs": [
    {
     "name": "stderr",
     "output_type": "stream",
     "text": [
      "C:\\Users\\User\\anaconda3\\lib\\site-packages\\scipy\\stats\\_distn_infrastructure.py:1932: RuntimeWarning: invalid value encountered in less_equal\n",
      "  cond2 = cond0 & (x <= _a)\n"
     ]
    },
    {
     "data": {
      "text/html": [
       "<div>\n",
       "<style scoped>\n",
       "    .dataframe tbody tr th:only-of-type {\n",
       "        vertical-align: middle;\n",
       "    }\n",
       "\n",
       "    .dataframe tbody tr th {\n",
       "        vertical-align: top;\n",
       "    }\n",
       "\n",
       "    .dataframe thead th {\n",
       "        text-align: right;\n",
       "    }\n",
       "</style>\n",
       "<table border=\"1\" class=\"dataframe\">\n",
       "  <thead>\n",
       "    <tr style=\"text-align: right;\">\n",
       "      <th></th>\n",
       "      <th>NHL</th>\n",
       "      <th>NFL</th>\n",
       "      <th>MLB</th>\n",
       "      <th>NBA</th>\n",
       "    </tr>\n",
       "  </thead>\n",
       "  <tbody>\n",
       "    <tr>\n",
       "      <th>NHL</th>\n",
       "      <td>NaN</td>\n",
       "      <td>0.030959</td>\n",
       "      <td>0.000712</td>\n",
       "      <td>0.022316</td>\n",
       "    </tr>\n",
       "    <tr>\n",
       "      <th>NFL</th>\n",
       "      <td>0.030959</td>\n",
       "      <td>NaN</td>\n",
       "      <td>0.802384</td>\n",
       "      <td>0.941792</td>\n",
       "    </tr>\n",
       "    <tr>\n",
       "      <th>MLB</th>\n",
       "      <td>0.000712</td>\n",
       "      <td>0.802384</td>\n",
       "      <td>NaN</td>\n",
       "      <td>0.951046</td>\n",
       "    </tr>\n",
       "    <tr>\n",
       "      <th>NBA</th>\n",
       "      <td>0.022316</td>\n",
       "      <td>0.941792</td>\n",
       "      <td>0.951046</td>\n",
       "      <td>NaN</td>\n",
       "    </tr>\n",
       "  </tbody>\n",
       "</table>\n",
       "</div>"
      ],
      "text/plain": [
       "          NHL       NFL       MLB       NBA\n",
       "NHL       NaN  0.030959  0.000712  0.022316\n",
       "NFL  0.030959       NaN  0.802384  0.941792\n",
       "MLB  0.000712  0.802384       NaN  0.951046\n",
       "NBA  0.022316  0.941792  0.951046       NaN"
      ]
     },
     "execution_count": 90,
     "metadata": {},
     "output_type": "execute_result"
    }
   ],
   "source": [
    "# mistake solve, in NHL atlanta column removed\n",
    "pval_df = pd.DataFrame({\"NHL\": p_value(nhl_nhl, nhl_nfl, nhl_mlb, nhl_nba),\n",
    "                       \"NFL\": p_value(nfl_nhl, nfl_nfl, nfl_mlb, nfl_nba),\n",
    "                       \"MLB\": p_value(mlb_nhl, mlb_nfl, mlb_mlb, mlb_nba),\n",
    "                       \"NBA\" : p_value(nba_nhl, nba_nfl, nba_mlb, nba_nba)},\n",
    "                      index=[\"NHL\", \"NFL\", \"MLB\", \"NBA\"])\n",
    "pval_df"
   ]
  },
  {
   "cell_type": "markdown",
   "metadata": {},
   "source": [
    "in **5% alpha or singnificant level**:\n",
    "We can say, in each given region, the teams in 4 sports have the ***same*** **win loss ratio** or ***different***\n",
    "\n",
    "The forgone conclusion is\n",
    "\n",
    "in each region: ***NHL and NFL*** *the wining ratio* the teams in these sport differ significantly\n",
    "\n",
    "in the same way: ***MLB and NHL*** **differ** significantly, even in ***1% alpha level or significant level***\n",
    "\n",
    "teams in ***NBA and NHL*** also **differ** significantly\n",
    "\n",
    "But in context of other teams with the others for instance ***NFL and MLB or MLB and NBA,*** we ***don't have significant evidence*** that those teams' *win loss ration* ****differ**** much "
   ]
  },
  {
   "cell_type": "code",
   "execution_count": null,
   "metadata": {},
   "outputs": [],
   "source": []
  }
 ],
 "metadata": {
  "kernelspec": {
   "display_name": "Python 3",
   "language": "python",
   "name": "python3"
  },
  "language_info": {
   "codemirror_mode": {
    "name": "ipython",
    "version": 3
   },
   "file_extension": ".py",
   "mimetype": "text/x-python",
   "name": "python",
   "nbconvert_exporter": "python",
   "pygments_lexer": "ipython3",
   "version": "3.8.3"
  }
 },
 "nbformat": 4,
 "nbformat_minor": 4
}
